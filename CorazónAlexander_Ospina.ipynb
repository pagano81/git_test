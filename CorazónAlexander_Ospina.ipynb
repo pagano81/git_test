{
  "nbformat": 4,
  "nbformat_minor": 0,
  "metadata": {
    "colab": {
      "name": "CorazónAlexander Ospina.ipynb",
      "provenance": [],
      "mount_file_id": "14l3N1JLGIaL_JUUtkogyXHI1u2HqBWZJ",
      "authorship_tag": "ABX9TyM3T3+Xlc5Vi+7R2LsbW/Z0",
      "include_colab_link": true
    },
    "kernelspec": {
      "name": "python3",
      "display_name": "Python 3"
    },
    "language_info": {
      "name": "python"
    }
  },
  "cells": [
    {
      "cell_type": "markdown",
      "metadata": {
        "id": "view-in-github",
        "colab_type": "text"
      },
      "source": [
        "<a href=\"https://colab.research.google.com/github/pagano81/git_test/blob/master/Coraz%C3%B3nAlexander_Ospina.ipynb\" target=\"_parent\"><img src=\"https://colab.research.google.com/assets/colab-badge.svg\" alt=\"Open In Colab\"/></a>"
      ]
    },
    {
      "cell_type": "markdown",
      "metadata": {
        "id": "DGcIXnUnOPxf"
      },
      "source": [
        "Vamos a cargar los datos del Titanic"
      ]
    },
    {
      "cell_type": "code",
      "metadata": {
        "id": "bl2gWVmbPT6a"
      },
      "source": [
        "# Procesamiento de datos\n",
        "from sklearn.model_selection import train_test_split\n",
        "import pandas as pd\n",
        "# Algebral lineal\n",
        "import numpy as np\n",
        "import sklearn_pandas as spd\n",
        "import math\n",
        "\n",
        "#Visualización\n",
        "import seaborn as sbn\n",
        "import plotnine as p9\n",
        "import matplotlib.pyplot as plt\n",
        "import matplotlib.ticker as ticker\n",
        "\n",
        "#Preprocesado\n",
        "from sklearn.compose import ColumnTransformer\n",
        "from sklearn.preprocessing import OneHotEncoder\n",
        "from sklearn.preprocessing import StandardScaler\n",
        "from sklearn.compose import make_column_selector\n",
        "\n",
        "#Algoritmos\n",
        "from sklearn import linear_model\n",
        "from sklearn.linear_model import LogisticRegression\n",
        "from sklearn.ensemble import RandomForestClassifier\n",
        "from sklearn.linear_model import Perceptron\n",
        "from sklearn.linear_model import SGDClassifier\n",
        "from sklearn.tree import DecisionTreeClassifier\n",
        "from sklearn.neighbors import KNeighborsClassifier\n",
        "from sklearn.svm import SVC, LinearSVC\n",
        "from sklearn.naive_bayes import GaussianNB\n",
        "from sklearn.impute import SimpleImputer\n",
        "from sklearn.model_selection import cross_val_score"
      ],
      "execution_count": 162,
      "outputs": []
    },
    {
      "cell_type": "markdown",
      "metadata": {
        "id": "8hhcOyPoRSJy"
      },
      "source": [
        "Voy a dar permiso a google colab para que tenga acceso a mi cuenta de google drive"
      ]
    },
    {
      "cell_type": "code",
      "metadata": {
        "colab": {
          "base_uri": "https://localhost:8080/"
        },
        "id": "7KBYzMYrRbYF",
        "outputId": "e6dd6af1-1d0c-459d-a33c-29f325983f1b"
      },
      "source": [
        "from google.colab import drive\n",
        "drive.mount('/content/drive/')\n"
      ],
      "execution_count": 84,
      "outputs": [
        {
          "output_type": "stream",
          "text": [
            "Drive already mounted at /content/drive/; to attempt to forcibly remount, call drive.mount(\"/content/drive/\", force_remount=True).\n"
          ],
          "name": "stdout"
        }
      ]
    },
    {
      "cell_type": "markdown",
      "metadata": {
        "id": "ih4RiHNMQ144"
      },
      "source": [
        "Ahora vamos a cargar la base de datos de entrenamiento y de prueba"
      ]
    },
    {
      "cell_type": "code",
      "metadata": {
        "colab": {
          "base_uri": "https://localhost:8080/",
          "height": 682
        },
        "id": "Zcf6BgJFQ8VG",
        "outputId": "ec98a23e-3a8b-41c1-dd72-07c48db77ae4"
      },
      "source": [
        "datos = pd.read_csv('corazon2.csv')\n",
        "datos.info()\n",
        "datos.describe()"
      ],
      "execution_count": 112,
      "outputs": [
        {
          "output_type": "stream",
          "text": [
            "<class 'pandas.core.frame.DataFrame'>\n",
            "RangeIndex: 303 entries, 0 to 302\n",
            "Data columns (total 15 columns):\n",
            " #   Column          Non-Null Count  Dtype  \n",
            "---  ------          --------------  -----  \n",
            " 0   Unnamed: 0      303 non-null    int64  \n",
            " 1   Age             303 non-null    int64  \n",
            " 2   Sex             303 non-null    object \n",
            " 3   Pain            303 non-null    object \n",
            " 4   TRestBPS        303 non-null    int64  \n",
            " 5   Chol            303 non-null    int64  \n",
            " 6   LowSugar        303 non-null    object \n",
            " 7   restECG         303 non-null    object \n",
            " 8   MaxHeartRate    303 non-null    int64  \n",
            " 9   InducedAngina   303 non-null    object \n",
            " 10  OldPeak         303 non-null    float64\n",
            " 11  Slope           303 non-null    object \n",
            " 12  VesselsColored  303 non-null    object \n",
            " 13  thal            303 non-null    object \n",
            " 14  HeartCondition  303 non-null    int64  \n",
            "dtypes: float64(1), int64(6), object(8)\n",
            "memory usage: 35.6+ KB\n"
          ],
          "name": "stdout"
        },
        {
          "output_type": "execute_result",
          "data": {
            "text/html": [
              "<div>\n",
              "<style scoped>\n",
              "    .dataframe tbody tr th:only-of-type {\n",
              "        vertical-align: middle;\n",
              "    }\n",
              "\n",
              "    .dataframe tbody tr th {\n",
              "        vertical-align: top;\n",
              "    }\n",
              "\n",
              "    .dataframe thead th {\n",
              "        text-align: right;\n",
              "    }\n",
              "</style>\n",
              "<table border=\"1\" class=\"dataframe\">\n",
              "  <thead>\n",
              "    <tr style=\"text-align: right;\">\n",
              "      <th></th>\n",
              "      <th>Unnamed: 0</th>\n",
              "      <th>Age</th>\n",
              "      <th>TRestBPS</th>\n",
              "      <th>Chol</th>\n",
              "      <th>MaxHeartRate</th>\n",
              "      <th>OldPeak</th>\n",
              "      <th>HeartCondition</th>\n",
              "    </tr>\n",
              "  </thead>\n",
              "  <tbody>\n",
              "    <tr>\n",
              "      <th>count</th>\n",
              "      <td>303.000000</td>\n",
              "      <td>303.000000</td>\n",
              "      <td>303.000000</td>\n",
              "      <td>303.000000</td>\n",
              "      <td>303.000000</td>\n",
              "      <td>303.000000</td>\n",
              "      <td>303.000000</td>\n",
              "    </tr>\n",
              "    <tr>\n",
              "      <th>mean</th>\n",
              "      <td>151.000000</td>\n",
              "      <td>54.366337</td>\n",
              "      <td>131.623762</td>\n",
              "      <td>246.264026</td>\n",
              "      <td>149.646865</td>\n",
              "      <td>1.039604</td>\n",
              "      <td>0.455446</td>\n",
              "    </tr>\n",
              "    <tr>\n",
              "      <th>std</th>\n",
              "      <td>87.612784</td>\n",
              "      <td>9.082101</td>\n",
              "      <td>17.538143</td>\n",
              "      <td>51.830751</td>\n",
              "      <td>22.905161</td>\n",
              "      <td>1.161075</td>\n",
              "      <td>0.498835</td>\n",
              "    </tr>\n",
              "    <tr>\n",
              "      <th>min</th>\n",
              "      <td>0.000000</td>\n",
              "      <td>29.000000</td>\n",
              "      <td>94.000000</td>\n",
              "      <td>126.000000</td>\n",
              "      <td>71.000000</td>\n",
              "      <td>0.000000</td>\n",
              "      <td>0.000000</td>\n",
              "    </tr>\n",
              "    <tr>\n",
              "      <th>25%</th>\n",
              "      <td>75.500000</td>\n",
              "      <td>47.500000</td>\n",
              "      <td>120.000000</td>\n",
              "      <td>211.000000</td>\n",
              "      <td>133.500000</td>\n",
              "      <td>0.000000</td>\n",
              "      <td>0.000000</td>\n",
              "    </tr>\n",
              "    <tr>\n",
              "      <th>50%</th>\n",
              "      <td>151.000000</td>\n",
              "      <td>55.000000</td>\n",
              "      <td>130.000000</td>\n",
              "      <td>240.000000</td>\n",
              "      <td>153.000000</td>\n",
              "      <td>0.800000</td>\n",
              "      <td>0.000000</td>\n",
              "    </tr>\n",
              "    <tr>\n",
              "      <th>75%</th>\n",
              "      <td>226.500000</td>\n",
              "      <td>61.000000</td>\n",
              "      <td>140.000000</td>\n",
              "      <td>274.500000</td>\n",
              "      <td>166.000000</td>\n",
              "      <td>1.600000</td>\n",
              "      <td>1.000000</td>\n",
              "    </tr>\n",
              "    <tr>\n",
              "      <th>max</th>\n",
              "      <td>302.000000</td>\n",
              "      <td>77.000000</td>\n",
              "      <td>200.000000</td>\n",
              "      <td>564.000000</td>\n",
              "      <td>202.000000</td>\n",
              "      <td>6.200000</td>\n",
              "      <td>1.000000</td>\n",
              "    </tr>\n",
              "  </tbody>\n",
              "</table>\n",
              "</div>"
            ],
            "text/plain": [
              "       Unnamed: 0         Age  ...     OldPeak  HeartCondition\n",
              "count  303.000000  303.000000  ...  303.000000      303.000000\n",
              "mean   151.000000   54.366337  ...    1.039604        0.455446\n",
              "std     87.612784    9.082101  ...    1.161075        0.498835\n",
              "min      0.000000   29.000000  ...    0.000000        0.000000\n",
              "25%     75.500000   47.500000  ...    0.000000        0.000000\n",
              "50%    151.000000   55.000000  ...    0.800000        0.000000\n",
              "75%    226.500000   61.000000  ...    1.600000        1.000000\n",
              "max    302.000000   77.000000  ...    6.200000        1.000000\n",
              "\n",
              "[8 rows x 7 columns]"
            ]
          },
          "metadata": {
            "tags": []
          },
          "execution_count": 112
        }
      ]
    },
    {
      "cell_type": "markdown",
      "metadata": {
        "id": "2dUZoMCqVhdT"
      },
      "source": [
        "Esta última orden nos muestra la media, la desviación estandard, los cuartiles los máximos y mínimos de cada categoría. Los datos están balanceados en cuanto a los que tienen buena y mala condición cardiaca. De la misma manera se evidencian rangos muy amplios en todos las categorías.\n",
        "Ahora miraremos los enunciados de la tabla."
      ]
    },
    {
      "cell_type": "code",
      "metadata": {
        "colab": {
          "base_uri": "https://localhost:8080/",
          "height": 206
        },
        "id": "8yBBjTcbV-aC",
        "outputId": "c3888789-d87d-4c44-9a33-92ad2542322d"
      },
      "source": [
        "datos.head()"
      ],
      "execution_count": 113,
      "outputs": [
        {
          "output_type": "execute_result",
          "data": {
            "text/html": [
              "<div>\n",
              "<style scoped>\n",
              "    .dataframe tbody tr th:only-of-type {\n",
              "        vertical-align: middle;\n",
              "    }\n",
              "\n",
              "    .dataframe tbody tr th {\n",
              "        vertical-align: top;\n",
              "    }\n",
              "\n",
              "    .dataframe thead th {\n",
              "        text-align: right;\n",
              "    }\n",
              "</style>\n",
              "<table border=\"1\" class=\"dataframe\">\n",
              "  <thead>\n",
              "    <tr style=\"text-align: right;\">\n",
              "      <th></th>\n",
              "      <th>Unnamed: 0</th>\n",
              "      <th>Age</th>\n",
              "      <th>Sex</th>\n",
              "      <th>Pain</th>\n",
              "      <th>TRestBPS</th>\n",
              "      <th>Chol</th>\n",
              "      <th>LowSugar</th>\n",
              "      <th>restECG</th>\n",
              "      <th>MaxHeartRate</th>\n",
              "      <th>InducedAngina</th>\n",
              "      <th>OldPeak</th>\n",
              "      <th>Slope</th>\n",
              "      <th>VesselsColored</th>\n",
              "      <th>thal</th>\n",
              "      <th>HeartCondition</th>\n",
              "    </tr>\n",
              "  </thead>\n",
              "  <tbody>\n",
              "    <tr>\n",
              "      <th>0</th>\n",
              "      <td>0</td>\n",
              "      <td>63</td>\n",
              "      <td>male</td>\n",
              "      <td>angina</td>\n",
              "      <td>145</td>\n",
              "      <td>233</td>\n",
              "      <td>true</td>\n",
              "      <td>hyp</td>\n",
              "      <td>150</td>\n",
              "      <td>fal</td>\n",
              "      <td>2.3</td>\n",
              "      <td>down</td>\n",
              "      <td>0.0</td>\n",
              "      <td>fix</td>\n",
              "      <td>0</td>\n",
              "    </tr>\n",
              "    <tr>\n",
              "      <th>1</th>\n",
              "      <td>1</td>\n",
              "      <td>67</td>\n",
              "      <td>male</td>\n",
              "      <td>asympt</td>\n",
              "      <td>160</td>\n",
              "      <td>286</td>\n",
              "      <td>fal</td>\n",
              "      <td>hyp</td>\n",
              "      <td>108</td>\n",
              "      <td>true</td>\n",
              "      <td>1.5</td>\n",
              "      <td>flat</td>\n",
              "      <td>3.0</td>\n",
              "      <td>norm</td>\n",
              "      <td>1</td>\n",
              "    </tr>\n",
              "    <tr>\n",
              "      <th>2</th>\n",
              "      <td>2</td>\n",
              "      <td>67</td>\n",
              "      <td>male</td>\n",
              "      <td>asympt</td>\n",
              "      <td>120</td>\n",
              "      <td>229</td>\n",
              "      <td>fal</td>\n",
              "      <td>hyp</td>\n",
              "      <td>129</td>\n",
              "      <td>true</td>\n",
              "      <td>2.6</td>\n",
              "      <td>flat</td>\n",
              "      <td>2.0</td>\n",
              "      <td>rev</td>\n",
              "      <td>1</td>\n",
              "    </tr>\n",
              "    <tr>\n",
              "      <th>3</th>\n",
              "      <td>3</td>\n",
              "      <td>37</td>\n",
              "      <td>male</td>\n",
              "      <td>notang</td>\n",
              "      <td>130</td>\n",
              "      <td>250</td>\n",
              "      <td>fal</td>\n",
              "      <td>norm</td>\n",
              "      <td>187</td>\n",
              "      <td>fal</td>\n",
              "      <td>3.5</td>\n",
              "      <td>down</td>\n",
              "      <td>0.0</td>\n",
              "      <td>norm</td>\n",
              "      <td>0</td>\n",
              "    </tr>\n",
              "    <tr>\n",
              "      <th>4</th>\n",
              "      <td>4</td>\n",
              "      <td>41</td>\n",
              "      <td>fem</td>\n",
              "      <td>abnang</td>\n",
              "      <td>130</td>\n",
              "      <td>204</td>\n",
              "      <td>fal</td>\n",
              "      <td>hyp</td>\n",
              "      <td>172</td>\n",
              "      <td>fal</td>\n",
              "      <td>1.4</td>\n",
              "      <td>up</td>\n",
              "      <td>0.0</td>\n",
              "      <td>norm</td>\n",
              "      <td>0</td>\n",
              "    </tr>\n",
              "  </tbody>\n",
              "</table>\n",
              "</div>"
            ],
            "text/plain": [
              "   Unnamed: 0  Age   Sex    Pain  ...  Slope  VesselsColored  thal HeartCondition\n",
              "0           0   63  male  angina  ...   down             0.0   fix              0\n",
              "1           1   67  male  asympt  ...   flat             3.0  norm              1\n",
              "2           2   67  male  asympt  ...   flat             2.0   rev              1\n",
              "3           3   37  male  notang  ...   down             0.0  norm              0\n",
              "4           4   41   fem  abnang  ...     up             0.0  norm              0\n",
              "\n",
              "[5 rows x 15 columns]"
            ]
          },
          "metadata": {
            "tags": []
          },
          "execution_count": 113
        }
      ]
    },
    {
      "cell_type": "markdown",
      "metadata": {
        "id": "xHmzkYT4WIja"
      },
      "source": [
        "Acá vemos que no es necesaria la primera columna. Estas columna la podemos obviar al igual que la columna de azúcar bajo, ya que está demasiado desbalanceada y la mayoría en negativa."
      ]
    },
    {
      "cell_type": "code",
      "metadata": {
        "colab": {
          "base_uri": "https://localhost:8080/",
          "height": 206
        },
        "id": "S25xBBB7WxGc",
        "outputId": "6e3a9b52-6013-4278-9662-6555eecfa0fa"
      },
      "source": [
        "datos=datos.drop(['Unnamed: 0','LowSugar', 'thal', 'VesselsColored'], axis=1,)\n",
        "datos.head()\n"
      ],
      "execution_count": 114,
      "outputs": [
        {
          "output_type": "execute_result",
          "data": {
            "text/html": [
              "<div>\n",
              "<style scoped>\n",
              "    .dataframe tbody tr th:only-of-type {\n",
              "        vertical-align: middle;\n",
              "    }\n",
              "\n",
              "    .dataframe tbody tr th {\n",
              "        vertical-align: top;\n",
              "    }\n",
              "\n",
              "    .dataframe thead th {\n",
              "        text-align: right;\n",
              "    }\n",
              "</style>\n",
              "<table border=\"1\" class=\"dataframe\">\n",
              "  <thead>\n",
              "    <tr style=\"text-align: right;\">\n",
              "      <th></th>\n",
              "      <th>Age</th>\n",
              "      <th>Sex</th>\n",
              "      <th>Pain</th>\n",
              "      <th>TRestBPS</th>\n",
              "      <th>Chol</th>\n",
              "      <th>restECG</th>\n",
              "      <th>MaxHeartRate</th>\n",
              "      <th>InducedAngina</th>\n",
              "      <th>OldPeak</th>\n",
              "      <th>Slope</th>\n",
              "      <th>HeartCondition</th>\n",
              "    </tr>\n",
              "  </thead>\n",
              "  <tbody>\n",
              "    <tr>\n",
              "      <th>0</th>\n",
              "      <td>63</td>\n",
              "      <td>male</td>\n",
              "      <td>angina</td>\n",
              "      <td>145</td>\n",
              "      <td>233</td>\n",
              "      <td>hyp</td>\n",
              "      <td>150</td>\n",
              "      <td>fal</td>\n",
              "      <td>2.3</td>\n",
              "      <td>down</td>\n",
              "      <td>0</td>\n",
              "    </tr>\n",
              "    <tr>\n",
              "      <th>1</th>\n",
              "      <td>67</td>\n",
              "      <td>male</td>\n",
              "      <td>asympt</td>\n",
              "      <td>160</td>\n",
              "      <td>286</td>\n",
              "      <td>hyp</td>\n",
              "      <td>108</td>\n",
              "      <td>true</td>\n",
              "      <td>1.5</td>\n",
              "      <td>flat</td>\n",
              "      <td>1</td>\n",
              "    </tr>\n",
              "    <tr>\n",
              "      <th>2</th>\n",
              "      <td>67</td>\n",
              "      <td>male</td>\n",
              "      <td>asympt</td>\n",
              "      <td>120</td>\n",
              "      <td>229</td>\n",
              "      <td>hyp</td>\n",
              "      <td>129</td>\n",
              "      <td>true</td>\n",
              "      <td>2.6</td>\n",
              "      <td>flat</td>\n",
              "      <td>1</td>\n",
              "    </tr>\n",
              "    <tr>\n",
              "      <th>3</th>\n",
              "      <td>37</td>\n",
              "      <td>male</td>\n",
              "      <td>notang</td>\n",
              "      <td>130</td>\n",
              "      <td>250</td>\n",
              "      <td>norm</td>\n",
              "      <td>187</td>\n",
              "      <td>fal</td>\n",
              "      <td>3.5</td>\n",
              "      <td>down</td>\n",
              "      <td>0</td>\n",
              "    </tr>\n",
              "    <tr>\n",
              "      <th>4</th>\n",
              "      <td>41</td>\n",
              "      <td>fem</td>\n",
              "      <td>abnang</td>\n",
              "      <td>130</td>\n",
              "      <td>204</td>\n",
              "      <td>hyp</td>\n",
              "      <td>172</td>\n",
              "      <td>fal</td>\n",
              "      <td>1.4</td>\n",
              "      <td>up</td>\n",
              "      <td>0</td>\n",
              "    </tr>\n",
              "  </tbody>\n",
              "</table>\n",
              "</div>"
            ],
            "text/plain": [
              "   Age   Sex    Pain  TRestBPS  ...  InducedAngina OldPeak  Slope HeartCondition\n",
              "0   63  male  angina       145  ...            fal     2.3   down              0\n",
              "1   67  male  asympt       160  ...           true     1.5   flat              1\n",
              "2   67  male  asympt       120  ...           true     2.6   flat              1\n",
              "3   37  male  notang       130  ...            fal     3.5   down              0\n",
              "4   41   fem  abnang       130  ...            fal     1.4     up              0\n",
              "\n",
              "[5 rows x 11 columns]"
            ]
          },
          "metadata": {
            "tags": []
          },
          "execution_count": 114
        }
      ]
    },
    {
      "cell_type": "markdown",
      "metadata": {
        "id": "PBSIhPbzy555"
      },
      "source": [
        "**ANÁLISIS EXPLORATORIO**"
      ]
    },
    {
      "cell_type": "markdown",
      "metadata": {
        "id": "2CS26hg4YfYZ"
      },
      "source": [
        "Ahora evaluaremos la distribución de las edades, ya que primero tienen muchos faltantes y el rango es muy alto desde 4 meses a 80 años."
      ]
    },
    {
      "cell_type": "code",
      "metadata": {
        "colab": {
          "base_uri": "https://localhost:8080/",
          "height": 282
        },
        "id": "OX-WU2J9Yuxz",
        "outputId": "6675f167-c136-46bc-e977-66891f08b2a8"
      },
      "source": [
        "plt.hist(datos['Age'], bins= 20, density=True, )\n",
        "plt.show"
      ],
      "execution_count": 115,
      "outputs": [
        {
          "output_type": "execute_result",
          "data": {
            "text/plain": [
              "<function matplotlib.pyplot.show>"
            ]
          },
          "metadata": {
            "tags": []
          },
          "execution_count": 115
        },
        {
          "output_type": "display_data",
          "data": {
            "image/png": "[encoded data removed]",
            "text/plain": [
              "<Figure size 432x288 with 1 Axes>"
            ]
          },
          "metadata": {
            "tags": [],
            "needs_background": "light"
          }
        }
      ]
    },
    {
      "cell_type": "markdown",
      "metadata": {
        "id": "BLL_Xlclatwq"
      },
      "source": [
        "Como podemos apreciar en este histograma, la característica edad, no tiene un distribución normal, es bimodal, osea que son dos poblaciones muy diferentes, menores de 50 años y mayores de 50 años, sumado al hecho que tiene muchos valores extremos hacia la derecha y un valor extremo a la izquierda. La enfermedad coronaria en menores de 30 años es muy rara, por lo que implicaría que este paciente tiene predisponibilidad genética y no corresponde al resto de la población. Eso quiere decir inicialmente, que los valores faltantes no se pueden llenar con la media sino con la moda, y que tomando en cuenta los valores tan extremos, se hace menester escalar los valores a Z, es decir, llevarlos a una media de 0 con una desviación standar de 1"
      ]
    },
    {
      "cell_type": "markdown",
      "metadata": {
        "id": "QF12PEkebZyN"
      },
      "source": [
        "Ahora miraremos si están balanceadas las características de clases y de sexo"
      ]
    },
    {
      "cell_type": "code",
      "metadata": {
        "colab": {
          "base_uri": "https://localhost:8080/",
          "height": 282
        },
        "id": "FB9LFPHhbgaN",
        "outputId": "eda3acec-cb87-4dad-bc04-f47954b1fdbb"
      },
      "source": [
        "plt.hist(datos['Sex'] )\n",
        "plt.show"
      ],
      "execution_count": 116,
      "outputs": [
        {
          "output_type": "execute_result",
          "data": {
            "text/plain": [
              "<function matplotlib.pyplot.show>"
            ]
          },
          "metadata": {
            "tags": []
          },
          "execution_count": 116
        },
        {
          "output_type": "display_data",
          "data": {
            "image/png": "[encoded data removed]",
            "text/plain": [
              "<Figure size 432x288 with 1 Axes>"
            ]
          },
          "metadata": {
            "tags": [],
            "needs_background": "light"
          }
        }
      ]
    },
    {
      "cell_type": "markdown",
      "metadata": {
        "id": "iA3ZD9FgcCiS"
      },
      "source": [
        "Acá se evidencia, que los hombres con enfermedad cardiaca superan por el doble al de las mujeres, lo cual es esperable, ya que las mujeres adquieren la misma probabilidad de enfermedad cardiaca que los hombres después de la menopausia.\n",
        "Comprobaremos esta hipótesis, graficando edad versus sexo."
      ]
    },
    {
      "cell_type": "code",
      "metadata": {
        "colab": {
          "base_uri": "https://localhost:8080/",
          "height": 499
        },
        "id": "HoFHehcwQGiB",
        "outputId": "229a253f-e702-45c0-8e69-f6de2c701dc5"
      },
      "source": [
        "surveys_plot = p9.ggplot(data=datos, mapping=p9.aes(x='Age', y='Sex'))\n",
        "surveys_plot + p9.geom_point()"
      ],
      "execution_count": 117,
      "outputs": [
        {
          "output_type": "stream",
          "text": [
            "/usr/local/lib/python3.7/dist-packages/plotnine/utils.py:1246: FutureWarning: is_categorical is deprecated and will be removed in a future version.  Use is_categorical_dtype instead\n",
            "  if pdtypes.is_categorical(arr):\n"
          ],
          "name": "stderr"
        },
        {
          "output_type": "display_data",
          "data": {
            "image/png": "[encoded data removed]",
            "text/plain": [
              "<Figure size 640x480 with 1 Axes>"
            ]
          },
          "metadata": {
            "tags": []
          }
        },
        {
          "output_type": "execute_result",
          "data": {
            "text/plain": [
              "<ggplot: (8774183114973)>"
            ]
          },
          "metadata": {
            "tags": []
          },
          "execution_count": 117
        }
      ]
    },
    {
      "cell_type": "markdown",
      "metadata": {
        "id": "iBoXSVbBR02p"
      },
      "source": [
        "En esta gráfica evidenciamos que el grueso de la población está entre 45 y 65 años, que las mujeres aumentan su riesgo vascular después de los 40 fecha de la menopausia y que como en promedio las mujeres viven 7 a 10 años más que los hombres, los valores extremos a la derecha, corresponden tres veces más a mujeres que a hombres. Lo contrario para lo hombres, las predisposiciones genéticas que si bien se pueden presentar en cualquier sexo, predominan en los hombres.\n",
        "Ahora, en esta gráfica evidenciamos que los valores extremos en una distribución no normal y bimodal tergiversarían los datos, se eliminarán los valores extremos ya que son pocos, Eliminaremos menore de 35 años y mayores de 70."
      ]
    },
    {
      "cell_type": "code",
      "metadata": {
        "colab": {
          "base_uri": "https://localhost:8080/",
          "height": 282
        },
        "id": "gkqOoQfWUAWS",
        "outputId": "5218cfac-c1ca-48b2-c44d-07b5b94f140f"
      },
      "source": [
        "plt.hist(datos['Chol'] )\n",
        "plt.show"
      ],
      "execution_count": 118,
      "outputs": [
        {
          "output_type": "execute_result",
          "data": {
            "text/plain": [
              "<function matplotlib.pyplot.show>"
            ]
          },
          "metadata": {
            "tags": []
          },
          "execution_count": 118
        },
        {
          "output_type": "display_data",
          "data": {
            "image/png": "[encoded data removed]",
            "text/plain": [
              "<Figure size 432x288 with 1 Axes>"
            ]
          },
          "metadata": {
            "tags": [],
            "needs_background": "light"
          }
        }
      ]
    },
    {
      "cell_type": "markdown",
      "metadata": {
        "id": "2w30T70WUXdB"
      },
      "source": [
        "En esta gráfica, encontramos que el promedio de los valores de colesterol se encuentran entre 90 y 400 con un solo valor extremo de 500, evidenciaremos la distribución por edad y sexo."
      ]
    },
    {
      "cell_type": "code",
      "metadata": {
        "colab": {
          "base_uri": "https://localhost:8080/",
          "height": 499
        },
        "id": "53J0nQwaUq7C",
        "outputId": "ed7e0e23-7494-4702-aef9-286b8dc0b013"
      },
      "source": [
        "surveys_plot = p9.ggplot(data=datos, mapping=p9.aes(x='Age', y='Chol', color= 'Sex'))\n",
        "surveys_plot + p9.geom_point() + p9.xlab(\"Weight (g)\")"
      ],
      "execution_count": 119,
      "outputs": [
        {
          "output_type": "stream",
          "text": [
            "/usr/local/lib/python3.7/dist-packages/plotnine/utils.py:1246: FutureWarning: is_categorical is deprecated and will be removed in a future version.  Use is_categorical_dtype instead\n",
            "  if pdtypes.is_categorical(arr):\n"
          ],
          "name": "stderr"
        },
        {
          "output_type": "display_data",
          "data": {
            "image/png": "[encoded data removed]",
            "text/plain": [
              "<Figure size 640x480 with 1 Axes>"
            ]
          },
          "metadata": {
            "tags": []
          }
        },
        {
          "output_type": "execute_result",
          "data": {
            "text/plain": [
              "<ggplot: (8774173866349)>"
            ]
          },
          "metadata": {
            "tags": []
          },
          "execution_count": 119
        }
      ]
    },
    {
      "cell_type": "markdown",
      "metadata": {
        "id": "fuI0GT32WYe2"
      },
      "source": [
        "Llama la atención en esta gráfica, que el colesterol tiene valores más extremos que la edad y predomininan en mujeres con valores que superan los 350mg/dl"
      ]
    },
    {
      "cell_type": "markdown",
      "metadata": {
        "id": "kusfukXqo0w1"
      },
      "source": [
        "Evaluaremos el grado de correlación de las variables numéricas."
      ]
    },
    {
      "cell_type": "code",
      "metadata": {
        "colab": {
          "base_uri": "https://localhost:8080/",
          "height": 363
        },
        "id": "wB6JT5i6o6DG",
        "outputId": "a57a4110-2853-4854-a809-3c2b0f59740e"
      },
      "source": [
        "\n",
        "\n",
        "# Correlación entre columnas numéricas\n",
        "# ==============================================================================\n",
        "\n",
        "def tidy_corr_matrix(corr_mat):\n",
        "    '''\n",
        "    Función para convertir una matrix de correlación de pandas en formato tidy\n",
        "    '''\n",
        "    corr_mat = corr_mat.stack().reset_index()\n",
        "    corr_mat.columns = ['variable_1','variable_2','r']\n",
        "    corr_mat = corr_mat.loc[corr_mat['variable_1'] != corr_mat['variable_2'], :]\n",
        "    corr_mat['abs_r'] = np.abs(corr_mat['r'])\n",
        "    corr_mat = corr_mat.sort_values('abs_r', ascending=False)\n",
        "    \n",
        "    return(corr_mat)\n",
        "\n",
        "\n",
        "\n",
        "corr_matrix = datos.select_dtypes(include=['float64', 'int']).corr(method='pearson')\n",
        "tidy_corr_matrix(corr_matrix).head(10)\n",
        "\n"
      ],
      "execution_count": 121,
      "outputs": [
        {
          "output_type": "execute_result",
          "data": {
            "text/html": [
              "<div>\n",
              "<style scoped>\n",
              "    .dataframe tbody tr th:only-of-type {\n",
              "        vertical-align: middle;\n",
              "    }\n",
              "\n",
              "    .dataframe tbody tr th {\n",
              "        vertical-align: top;\n",
              "    }\n",
              "\n",
              "    .dataframe thead th {\n",
              "        text-align: right;\n",
              "    }\n",
              "</style>\n",
              "<table border=\"1\" class=\"dataframe\">\n",
              "  <thead>\n",
              "    <tr style=\"text-align: right;\">\n",
              "      <th></th>\n",
              "      <th>variable_1</th>\n",
              "      <th>variable_2</th>\n",
              "      <th>r</th>\n",
              "      <th>abs_r</th>\n",
              "    </tr>\n",
              "  </thead>\n",
              "  <tbody>\n",
              "    <tr>\n",
              "      <th>34</th>\n",
              "      <td>HeartCondition</td>\n",
              "      <td>OldPeak</td>\n",
              "      <td>0.430696</td>\n",
              "      <td>0.430696</td>\n",
              "    </tr>\n",
              "    <tr>\n",
              "      <th>29</th>\n",
              "      <td>OldPeak</td>\n",
              "      <td>HeartCondition</td>\n",
              "      <td>0.430696</td>\n",
              "      <td>0.430696</td>\n",
              "    </tr>\n",
              "    <tr>\n",
              "      <th>23</th>\n",
              "      <td>MaxHeartRate</td>\n",
              "      <td>HeartCondition</td>\n",
              "      <td>-0.421741</td>\n",
              "      <td>0.421741</td>\n",
              "    </tr>\n",
              "    <tr>\n",
              "      <th>33</th>\n",
              "      <td>HeartCondition</td>\n",
              "      <td>MaxHeartRate</td>\n",
              "      <td>-0.421741</td>\n",
              "      <td>0.421741</td>\n",
              "    </tr>\n",
              "    <tr>\n",
              "      <th>18</th>\n",
              "      <td>MaxHeartRate</td>\n",
              "      <td>Age</td>\n",
              "      <td>-0.398522</td>\n",
              "      <td>0.398522</td>\n",
              "    </tr>\n",
              "    <tr>\n",
              "      <th>3</th>\n",
              "      <td>Age</td>\n",
              "      <td>MaxHeartRate</td>\n",
              "      <td>-0.398522</td>\n",
              "      <td>0.398522</td>\n",
              "    </tr>\n",
              "    <tr>\n",
              "      <th>22</th>\n",
              "      <td>MaxHeartRate</td>\n",
              "      <td>OldPeak</td>\n",
              "      <td>-0.344187</td>\n",
              "      <td>0.344187</td>\n",
              "    </tr>\n",
              "    <tr>\n",
              "      <th>27</th>\n",
              "      <td>OldPeak</td>\n",
              "      <td>MaxHeartRate</td>\n",
              "      <td>-0.344187</td>\n",
              "      <td>0.344187</td>\n",
              "    </tr>\n",
              "    <tr>\n",
              "      <th>6</th>\n",
              "      <td>TRestBPS</td>\n",
              "      <td>Age</td>\n",
              "      <td>0.279351</td>\n",
              "      <td>0.279351</td>\n",
              "    </tr>\n",
              "    <tr>\n",
              "      <th>1</th>\n",
              "      <td>Age</td>\n",
              "      <td>TRestBPS</td>\n",
              "      <td>0.279351</td>\n",
              "      <td>0.279351</td>\n",
              "    </tr>\n",
              "  </tbody>\n",
              "</table>\n",
              "</div>"
            ],
            "text/plain": [
              "        variable_1      variable_2         r     abs_r\n",
              "34  HeartCondition         OldPeak  0.430696  0.430696\n",
              "29         OldPeak  HeartCondition  0.430696  0.430696\n",
              "23    MaxHeartRate  HeartCondition -0.421741  0.421741\n",
              "33  HeartCondition    MaxHeartRate -0.421741  0.421741\n",
              "18    MaxHeartRate             Age -0.398522  0.398522\n",
              "3              Age    MaxHeartRate -0.398522  0.398522\n",
              "22    MaxHeartRate         OldPeak -0.344187  0.344187\n",
              "27         OldPeak    MaxHeartRate -0.344187  0.344187\n",
              "6         TRestBPS             Age  0.279351  0.279351\n",
              "1              Age        TRestBPS  0.279351  0.279351"
            ]
          },
          "metadata": {
            "tags": []
          },
          "execution_count": 121
        }
      ]
    },
    {
      "cell_type": "markdown",
      "metadata": {
        "id": "YtR7ta4kpHMP"
      },
      "source": [
        "Evidenciamos que tienen muy mala correlación entre sí. Evaluaremos si se puede hacer más sencillo el modelo, con los valores obtenidos de las correlaciones."
      ]
    },
    {
      "cell_type": "code",
      "metadata": {
        "colab": {
          "base_uri": "https://localhost:8080/",
          "height": 740
        },
        "id": "Y_qekTURpO36",
        "outputId": "36584003-ee99-4e22-fab1-86dc516f1792"
      },
      "source": [
        "fig, ax = plt.subplots(nrows=1, ncols=1, figsize=(12, 12))\n",
        "\n",
        "sbn.heatmap(\n",
        "    corr_matrix,\n",
        "    annot     = True,\n",
        "    cbar      = False,\n",
        "    annot_kws = {\"size\": 12},\n",
        "    vmin      = -1,\n",
        "    vmax      = 1,\n",
        "    center    = 0,\n",
        "    cmap      = sbn.diverging_palette(20, 220, n=200),\n",
        "    square    = True,\n",
        "    ax        = ax\n",
        ")\n",
        "ax.set_xticklabels(\n",
        "    ax.get_xticklabels(),\n",
        "    rotation = 45,\n",
        "    horizontalalignment = 'right',\n",
        ")\n",
        "\n",
        "ax.tick_params(labelsize = 8)"
      ],
      "execution_count": 122,
      "outputs": [
        {
          "output_type": "display_data",
          "data": {
            "image/png": "[encoded data removed]",
            "text/plain": [
              "<Figure size 864x864 with 1 Axes>"
            ]
          },
          "metadata": {
            "tags": [],
            "needs_background": "light"
          }
        }
      ]
    },
    {
      "cell_type": "markdown",
      "metadata": {
        "id": "Nt3rCm0NoLpl"
      },
      "source": [
        "Ahora evaluaremos las variables de tipo categórico"
      ]
    },
    {
      "cell_type": "code",
      "metadata": {
        "colab": {
          "base_uri": "https://localhost:8080/",
          "height": 553
        },
        "id": "6f84Vu5coQfH",
        "outputId": "ff119e87-320c-4c08-de02-95232ba99b25"
      },
      "source": [
        "fig, axes = plt.subplots(nrows=2, ncols=3, figsize=(12, 9))\n",
        "axes = axes.flat\n",
        "columnas_object = datos.select_dtypes(include=['object']).columns\n",
        "\n",
        "for i, colum in enumerate(columnas_object):\n",
        "    datos[colum].value_counts().plot.barh(ax = axes[i])\n",
        "    axes[i].set_title(colum, fontsize = 12, fontweight = \"bold\")\n",
        "    axes[i].tick_params(labelsize = 9)\n",
        "    axes[i].set_xlabel(\"\")"
      ],
      "execution_count": 124,
      "outputs": [
        {
          "output_type": "display_data",
          "data": {
            "image/png": "[encoded data removed]",
            "text/plain": [
              "<Figure size 864x648 with 6 Axes>"
            ]
          },
          "metadata": {
            "tags": [],
            "needs_background": "light"
          }
        }
      ]
    },
    {
      "cell_type": "markdown",
      "metadata": {
        "id": "9IPjqrpJu9Wx"
      },
      "source": [
        "Relacionaremos las relaciones entre variables cualitativas versus la condición cardiaca"
      ]
    },
    {
      "cell_type": "code",
      "metadata": {
        "colab": {
          "base_uri": "https://localhost:8080/",
          "height": 655
        },
        "id": "RaEuk8Kau4U5",
        "outputId": "1ca645d7-5617-4505-e64c-2f596c211b27"
      },
      "source": [
        "\n",
        "fig, axes = plt.subplots(nrows=1, ncols=4, figsize=(12, 9))\n",
        "axes = axes.flat\n",
        "columnas_object = datos.select_dtypes(include=['object']).columns\n",
        "\n",
        "for i, colum in enumerate(columnas_object):\n",
        "    sbn.violinplot(\n",
        "        x     = colum,\n",
        "        y     = 'HeartCondition',\n",
        "        data  = datos,\n",
        "        color = \"white\",\n",
        "        ax    = axes[i]\n",
        "    )\n",
        "    axes[i].set_title(f\"Condición cardiaca vs {colum}\", fontsize = 9, fontweight = \"bold\")\n",
        "    axes[i].yaxis.set_major_formatter(ticker.EngFormatter())\n",
        "    axes[i].tick_params(labelsize = 9)\n",
        "    axes[i].set_xlabel(\"\")\n",
        "    axes[i].set_ylabel(\"\")\n",
        "\n",
        "# Se eliminan los ejes vacíos\n",
        "#for i in [3, 4]:\n",
        " #   fig.delaxes(axes[i])\n",
        "    \n",
        "fig.tight_layout()\n",
        "plt.subplots_adjust(top=0.9)\n",
        "fig.suptitle('Distribución de la enfermedad cardiaca por grupo', fontsize = 10, fontweight = \"bold\");"
      ],
      "execution_count": 159,
      "outputs": [
        {
          "output_type": "display_data",
          "data": {
            "image/png": "[encoded data removed]",
            "text/plain": [
              "<Figure size 864x648 with 4 Axes>"
            ]
          },
          "metadata": {
            "tags": [],
            "needs_background": "light"
          }
        }
      ]
    },
    {
      "cell_type": "code",
      "metadata": {
        "colab": {
          "base_uri": "https://localhost:8080/",
          "height": 206
        },
        "id": "M0y5EvP4wtRU",
        "outputId": "1a27f0b4-b8c3-4072-960f-9c9c29bca765"
      },
      "source": [
        "datos=datos.drop(['Pain'], axis=1,)\n",
        "datos.head()"
      ],
      "execution_count": 136,
      "outputs": [
        {
          "output_type": "execute_result",
          "data": {
            "text/html": [
              "<div>\n",
              "<style scoped>\n",
              "    .dataframe tbody tr th:only-of-type {\n",
              "        vertical-align: middle;\n",
              "    }\n",
              "\n",
              "    .dataframe tbody tr th {\n",
              "        vertical-align: top;\n",
              "    }\n",
              "\n",
              "    .dataframe thead th {\n",
              "        text-align: right;\n",
              "    }\n",
              "</style>\n",
              "<table border=\"1\" class=\"dataframe\">\n",
              "  <thead>\n",
              "    <tr style=\"text-align: right;\">\n",
              "      <th></th>\n",
              "      <th>Age</th>\n",
              "      <th>Sex</th>\n",
              "      <th>TRestBPS</th>\n",
              "      <th>Chol</th>\n",
              "      <th>restECG</th>\n",
              "      <th>MaxHeartRate</th>\n",
              "      <th>InducedAngina</th>\n",
              "      <th>OldPeak</th>\n",
              "      <th>Slope</th>\n",
              "      <th>HeartCondition</th>\n",
              "    </tr>\n",
              "  </thead>\n",
              "  <tbody>\n",
              "    <tr>\n",
              "      <th>0</th>\n",
              "      <td>63</td>\n",
              "      <td>male</td>\n",
              "      <td>145</td>\n",
              "      <td>233</td>\n",
              "      <td>hyp</td>\n",
              "      <td>150</td>\n",
              "      <td>fal</td>\n",
              "      <td>2.3</td>\n",
              "      <td>down</td>\n",
              "      <td>0</td>\n",
              "    </tr>\n",
              "    <tr>\n",
              "      <th>1</th>\n",
              "      <td>67</td>\n",
              "      <td>male</td>\n",
              "      <td>160</td>\n",
              "      <td>286</td>\n",
              "      <td>hyp</td>\n",
              "      <td>108</td>\n",
              "      <td>true</td>\n",
              "      <td>1.5</td>\n",
              "      <td>flat</td>\n",
              "      <td>1</td>\n",
              "    </tr>\n",
              "    <tr>\n",
              "      <th>2</th>\n",
              "      <td>67</td>\n",
              "      <td>male</td>\n",
              "      <td>120</td>\n",
              "      <td>229</td>\n",
              "      <td>hyp</td>\n",
              "      <td>129</td>\n",
              "      <td>true</td>\n",
              "      <td>2.6</td>\n",
              "      <td>flat</td>\n",
              "      <td>1</td>\n",
              "    </tr>\n",
              "    <tr>\n",
              "      <th>3</th>\n",
              "      <td>37</td>\n",
              "      <td>male</td>\n",
              "      <td>130</td>\n",
              "      <td>250</td>\n",
              "      <td>norm</td>\n",
              "      <td>187</td>\n",
              "      <td>fal</td>\n",
              "      <td>3.5</td>\n",
              "      <td>down</td>\n",
              "      <td>0</td>\n",
              "    </tr>\n",
              "    <tr>\n",
              "      <th>4</th>\n",
              "      <td>41</td>\n",
              "      <td>fem</td>\n",
              "      <td>130</td>\n",
              "      <td>204</td>\n",
              "      <td>hyp</td>\n",
              "      <td>172</td>\n",
              "      <td>fal</td>\n",
              "      <td>1.4</td>\n",
              "      <td>up</td>\n",
              "      <td>0</td>\n",
              "    </tr>\n",
              "  </tbody>\n",
              "</table>\n",
              "</div>"
            ],
            "text/plain": [
              "   Age   Sex  TRestBPS  Chol  ... InducedAngina  OldPeak Slope  HeartCondition\n",
              "0   63  male       145   233  ...           fal      2.3  down               0\n",
              "1   67  male       160   286  ...          true      1.5  flat               1\n",
              "2   67  male       120   229  ...          true      2.6  flat               1\n",
              "3   37  male       130   250  ...           fal      3.5  down               0\n",
              "4   41   fem       130   204  ...           fal      1.4    up               0\n",
              "\n",
              "[5 rows x 10 columns]"
            ]
          },
          "metadata": {
            "tags": []
          },
          "execution_count": 136
        }
      ]
    },
    {
      "cell_type": "markdown",
      "metadata": {
        "id": "58N4H6vcwXER"
      },
      "source": [
        "Como vemos en esta gráfica, la variable dolor no aporta nada a la condición cardiaca, ya que la mayoría de los datos nos indican que en condición cardiaca la mayoría no tenía dolor. Esta variable la podemos eliminar."
      ]
    },
    {
      "cell_type": "markdown",
      "metadata": {
        "id": "_0MJsVqgf4t0"
      },
      "source": [
        "Acá vemos que a ninguna característica le hace falta ningún dato, así que no hay que imputar datos faltantes, por lo que solo nos queda escalar a Z todos los valores y convertir en 0 y 1 los valores categóricos."
      ]
    },
    {
      "cell_type": "markdown",
      "metadata": {
        "id": "JvS88jEczXBw"
      },
      "source": [
        "**CREACIÓN DE LOS SUBCONJUNTOS DE ENTRENAMIENTO Y DE PRUEBA**"
      ]
    },
    {
      "cell_type": "markdown",
      "metadata": {
        "id": "vDZB9a22zYzz"
      },
      "source": [
        "Ahora vamos a crear los subconjuntos de entrenamiento y de prueba, usando como variable objetivo 'HeartCondition', la cual debe estar presente en ambos subconjuntos. Dividiremos el 70% de entrenamiento y el 30% de prueba. Utilizaremos 'barajamiento' de datos para garantizar la máxima aleatoridad posible y para que haya reproducibilidad, añadiremos un valor semilla."
      ]
    },
    {
      "cell_type": "code",
      "metadata": {
        "id": "4KYtkAUjzfqi"
      },
      "source": [
        "X_train, X_test, y_train, y_test = train_test_split(datos.drop('HeartCondition', axis = 'columns'),\n",
        "                                                    datos['HeartCondition'],\n",
        "                                                    train_size   = 0.7,\n",
        "                                                    random_state = 1234,\n",
        "                                                    shuffle      = True)"
      ],
      "execution_count": 138,
      "outputs": []
    },
    {
      "cell_type": "code",
      "metadata": {
        "colab": {
          "base_uri": "https://localhost:8080/"
        },
        "id": "6ArW8sJo0zeK",
        "outputId": "2d838661-e6f5-495d-d480-b9ff0cb5f8e7"
      },
      "source": [
        "print(\"Partición de entrenamento\")\n",
        "print(\"-----------------------\")\n",
        "print(y_train.describe())"
      ],
      "execution_count": 139,
      "outputs": [
        {
          "output_type": "stream",
          "text": [
            "Partición de entrenamento\n",
            "-----------------------\n",
            "count    212.000000\n",
            "mean       0.433962\n",
            "std        0.496793\n",
            "min        0.000000\n",
            "25%        0.000000\n",
            "50%        0.000000\n",
            "75%        1.000000\n",
            "max        1.000000\n",
            "Name: HeartCondition, dtype: float64\n"
          ],
          "name": "stdout"
        }
      ]
    },
    {
      "cell_type": "code",
      "metadata": {
        "colab": {
          "base_uri": "https://localhost:8080/"
        },
        "id": "v7xoXZ3r1FHx",
        "outputId": "5506aecd-1ecf-49fe-93c0-5e47d837b830"
      },
      "source": [
        "print(\"Partición de test\")\n",
        "print(\"-----------------------\")\n",
        "print(y_test.describe())"
      ],
      "execution_count": 140,
      "outputs": [
        {
          "output_type": "stream",
          "text": [
            "Partición de test\n",
            "-----------------------\n",
            "count    91.000000\n",
            "mean      0.505495\n",
            "std       0.502740\n",
            "min       0.000000\n",
            "25%       0.000000\n",
            "50%       1.000000\n",
            "75%       1.000000\n",
            "max       1.000000\n",
            "Name: HeartCondition, dtype: float64\n"
          ],
          "name": "stdout"
        }
      ]
    },
    {
      "cell_type": "markdown",
      "metadata": {
        "id": "9I1IiD2H1Nmw"
      },
      "source": [
        "Acabamos de comprobar que la variable objetivo, está presente en ambos grupos."
      ]
    },
    {
      "cell_type": "markdown",
      "metadata": {
        "id": "5nEI2yu_1aPm"
      },
      "source": [
        "**PREPROCESADO**\n",
        "Transformaciones de las variables."
      ]
    },
    {
      "cell_type": "code",
      "metadata": {
        "colab": {
          "base_uri": "https://localhost:8080/",
          "height": 363
        },
        "id": "A2YVYzdE1rMg",
        "outputId": "6d0c7271-caa1-4932-b6bb-c4e080942136"
      },
      "source": [
        "total = datos.isnull().sum().sort_values(ascending=False)\n",
        "percent_1 = datos.isnull().sum()/datos.isnull().count()*100\n",
        "percent_2 = (round(percent_1, 1)).sort_values(ascending=False)\n",
        "missing_data = pd.concat([total, percent_2], axis=1, keys=['Total', '%'])\n",
        "missing_data.head(13)"
      ],
      "execution_count": 160,
      "outputs": [
        {
          "output_type": "execute_result",
          "data": {
            "text/html": [
              "<div>\n",
              "<style scoped>\n",
              "    .dataframe tbody tr th:only-of-type {\n",
              "        vertical-align: middle;\n",
              "    }\n",
              "\n",
              "    .dataframe tbody tr th {\n",
              "        vertical-align: top;\n",
              "    }\n",
              "\n",
              "    .dataframe thead th {\n",
              "        text-align: right;\n",
              "    }\n",
              "</style>\n",
              "<table border=\"1\" class=\"dataframe\">\n",
              "  <thead>\n",
              "    <tr style=\"text-align: right;\">\n",
              "      <th></th>\n",
              "      <th>Total</th>\n",
              "      <th>%</th>\n",
              "    </tr>\n",
              "  </thead>\n",
              "  <tbody>\n",
              "    <tr>\n",
              "      <th>HeartCondition</th>\n",
              "      <td>0</td>\n",
              "      <td>0.0</td>\n",
              "    </tr>\n",
              "    <tr>\n",
              "      <th>Slope</th>\n",
              "      <td>0</td>\n",
              "      <td>0.0</td>\n",
              "    </tr>\n",
              "    <tr>\n",
              "      <th>OldPeak</th>\n",
              "      <td>0</td>\n",
              "      <td>0.0</td>\n",
              "    </tr>\n",
              "    <tr>\n",
              "      <th>InducedAngina</th>\n",
              "      <td>0</td>\n",
              "      <td>0.0</td>\n",
              "    </tr>\n",
              "    <tr>\n",
              "      <th>MaxHeartRate</th>\n",
              "      <td>0</td>\n",
              "      <td>0.0</td>\n",
              "    </tr>\n",
              "    <tr>\n",
              "      <th>restECG</th>\n",
              "      <td>0</td>\n",
              "      <td>0.0</td>\n",
              "    </tr>\n",
              "    <tr>\n",
              "      <th>Chol</th>\n",
              "      <td>0</td>\n",
              "      <td>0.0</td>\n",
              "    </tr>\n",
              "    <tr>\n",
              "      <th>TRestBPS</th>\n",
              "      <td>0</td>\n",
              "      <td>0.0</td>\n",
              "    </tr>\n",
              "    <tr>\n",
              "      <th>Sex</th>\n",
              "      <td>0</td>\n",
              "      <td>0.0</td>\n",
              "    </tr>\n",
              "    <tr>\n",
              "      <th>Age</th>\n",
              "      <td>0</td>\n",
              "      <td>0.0</td>\n",
              "    </tr>\n",
              "  </tbody>\n",
              "</table>\n",
              "</div>"
            ],
            "text/plain": [
              "                Total    %\n",
              "HeartCondition      0  0.0\n",
              "Slope               0  0.0\n",
              "OldPeak             0  0.0\n",
              "InducedAngina       0  0.0\n",
              "MaxHeartRate        0  0.0\n",
              "restECG             0  0.0\n",
              "Chol                0  0.0\n",
              "TRestBPS            0  0.0\n",
              "Sex                 0  0.0\n",
              "Age                 0  0.0"
            ]
          },
          "metadata": {
            "tags": []
          },
          "execution_count": 160
        }
      ]
    },
    {
      "cell_type": "markdown",
      "metadata": {
        "id": "uSfQQLoh17gh"
      },
      "source": [
        "Acá vemos que a ninguna característica le hace falta ningún dato, así que no hay que imputar datos faltantes."
      ]
    },
    {
      "cell_type": "markdown",
      "metadata": {
        "id": "FYtAsUKB34_W"
      },
      "source": [
        "No se deben incluir en el modelo predictores que contengan un único valor (cero-varianza) ya que no aportan información. Tampoco es conveniente incluir predictores que tengan una varianza próxima a cero, es decir, predictores que toman solo unos pocos valores, de los cuales, algunos aparecen con muy poca frecuencia. El problema con estos últimos es que pueden convertirse en predictores con varianza cero cuando se dividen las observaciones por validación cruzada o bootstrap.\n",
        "\n",
        "\n",
        "Si bien la eliminación de predictores no informativos podría considerarse un paso propio del proceso de selección de predictores, dado que consiste en un filtrado por varianza, tiene que realizarse antes de estandarizar los datos, ya que después, todos los predictores tienen varianza 1.\n",
        "\n",
        "\n",
        "Recordar que las redes neuronales y los modelos aprendizajes soportados en vectores son regresiones lineales, por lo que los valores extremos o las distribuciones no normales, afectan el normal desempeño ya que los predictores que se salgan de una escala o que tengan una varianza mayor dominarńa el modelo aunque estos no tenga una buena correlación.\n",
        "\n",
        "En nuestro caso los escalaremos a Z, esto es, variaza 1 y media de 0."
      ]
    },
    {
      "cell_type": "markdown",
      "metadata": {
        "id": "VTOs9vDo52iW"
      },
      "source": [
        "En el siguiente código escalaremos a Z las variables numéricas y binarizaremos las variables categóricas."
      ]
    },
    {
      "cell_type": "code",
      "metadata": {
        "id": "RbQfuFlU5_Wh"
      },
      "source": [
        "columnas_numericas= X_train.select_dtypes(include=['float64', 'int']).columns.to_list()\n",
        "columnas_categoricas = X_train.select_dtypes(include=['object', 'category']).columns.to_list()\n",
        "\n",
        "preprocesador = ColumnTransformer([('scale', StandardScaler(), columnas_numericas),('onehot', OneHotEncoder(handle_unknown='ignore'),\n",
        "                                                                                    columnas_categoricas)],remainder='passthrough')"
      ],
      "execution_count": 164,
      "outputs": []
    },
    {
      "cell_type": "markdown",
      "metadata": {
        "id": "v6NA0-fg9fg9"
      },
      "source": [
        "Aplicaremos las transformaciones a ambos grupos."
      ]
    },
    {
      "cell_type": "code",
      "metadata": {
        "id": "mW1LgllY9vCj"
      },
      "source": [
        "X_train_prep = preprocesador.fit_transform(X_train)\n",
        "X_test_prep  = preprocesador.transform(X_test)"
      ],
      "execution_count": 172,
      "outputs": []
    },
    {
      "cell_type": "markdown",
      "metadata": {
        "id": "BPiZpuXs9_ED"
      },
      "source": [
        "Acá pasamos de un marco de datos con etiquetas, a un arreglo de numpy.\n",
        "Ahora con las transformaciones, reconstruiremos el marco de datos con sus etiquetas."
      ]
    },
    {
      "cell_type": "code",
      "metadata": {
        "colab": {
          "base_uri": "https://localhost:8080/"
        },
        "id": "N7LsE5Ej-z9w",
        "outputId": "99d9ca94-5c41-459c-9ebb-65ea1ef296e5"
      },
      "source": [
        "encoded_cat = preprocesador.named_transformers_['onehot'].get_feature_names(columnas_categoricas)\n",
        "etiquetas = np.concatenate([columnas_numericas, encoded_cat])\n",
        "datos_train_prep = preprocesador.transform(X_train)\n",
        "datos_train_prep = pd.DataFrame(datos_train_prep, columns=etiquetas)\n",
        "datos_train_prep.info()"
      ],
      "execution_count": 173,
      "outputs": [
        {
          "output_type": "stream",
          "text": [
            "<class 'pandas.core.frame.DataFrame'>\n",
            "RangeIndex: 212 entries, 0 to 211\n",
            "Data columns (total 14 columns):\n",
            " #   Column              Non-Null Count  Dtype  \n",
            "---  ------              --------------  -----  \n",
            " 0   Age                 212 non-null    float64\n",
            " 1   TRestBPS            212 non-null    float64\n",
            " 2   Chol                212 non-null    float64\n",
            " 3   MaxHeartRate        212 non-null    float64\n",
            " 4   OldPeak             212 non-null    float64\n",
            " 5   Sex_fem             212 non-null    float64\n",
            " 6   Sex_male            212 non-null    float64\n",
            " 7   restECG_hyp         212 non-null    float64\n",
            " 8   restECG_norm        212 non-null    float64\n",
            " 9   InducedAngina_fal   212 non-null    float64\n",
            " 10  InducedAngina_true  212 non-null    float64\n",
            " 11  Slope_down          212 non-null    float64\n",
            " 12  Slope_flat          212 non-null    float64\n",
            " 13  Slope_up            212 non-null    float64\n",
            "dtypes: float64(14)\n",
            "memory usage: 23.3 KB\n"
          ],
          "name": "stdout"
        }
      ]
    },
    {
      "cell_type": "markdown",
      "metadata": {
        "id": "sNnVbh4e_iLY"
      },
      "source": [
        "**CREACIÓN DEL MODELO**"
      ]
    },
    {
      "cell_type": "markdown",
      "metadata": {
        "id": "94kOkQCv4aC8"
      },
      "source": [
        "Primer modelo SGD"
      ]
    },
    {
      "cell_type": "code",
      "metadata": {
        "id": "FbUWZ96c4cUh"
      },
      "source": [
        "sgd = linear_model.SGDClassifier(max_iter=5, tol=None)\n",
        "sgd.fit(X_train_prep, y_train)\n",
        "Y_pred = sgd.predict(X_test_prep)\n",
        "\n",
        "sgd.score(X_train_prep, y_train)\n",
        "\n",
        "acc_sgd = round(sgd.score(X_train_prep, y_train) * 100, 2)"
      ],
      "execution_count": 175,
      "outputs": []
    },
    {
      "cell_type": "markdown",
      "metadata": {
        "id": "VOWtBvFVo_Ak"
      },
      "source": [
        "Segundo modelo Ramdon Forest"
      ]
    },
    {
      "cell_type": "code",
      "metadata": {
        "id": "cxV5UFvno9R9"
      },
      "source": [
        "random_forest = RandomForestClassifier(n_estimators=10)\n",
        "random_forest.fit(X_train_prep, y_train)\n",
        "\n",
        "Y_prediction = random_forest.predict(X_test_prep)\n",
        "\n",
        "random_forest.score(X_train_prep, y_train)\n",
        "acc_random_forest = round(random_forest.score(X_train_prep, y_train) * 100, 2)"
      ],
      "execution_count": 177,
      "outputs": []
    },
    {
      "cell_type": "markdown",
      "metadata": {
        "id": "R_Hg4yOQpEYj"
      },
      "source": [
        "Tercer modelo. Regresión Logística"
      ]
    },
    {
      "cell_type": "code",
      "metadata": {
        "id": "ts-sQ1wxpMbY"
      },
      "source": [
        "logreg = LogisticRegression()\n",
        "logreg.fit(X_train_prep, y_train)\n",
        "\n",
        "Y_pred = logreg.predict(X_test_prep)\n",
        "\n",
        "acc_log = round(logreg.score(X_train_prep, y_train) * 100, 2)"
      ],
      "execution_count": 178,
      "outputs": []
    },
    {
      "cell_type": "markdown",
      "metadata": {
        "id": "kXpWXU9SpOox"
      },
      "source": [
        "Cuarto modelo K vecinos más pŕoximos"
      ]
    },
    {
      "cell_type": "code",
      "metadata": {
        "id": "978Rd9jZpVlA"
      },
      "source": [
        "knn = KNeighborsClassifier(n_neighbors = 3)\n",
        "knn.fit(X_train_prep, y_train)\n",
        "Y_pred = knn.predict(X_test_prep)\n",
        "acc_knn = round(knn.score(X_train_prep, y_train) * 100, 2)"
      ],
      "execution_count": 179,
      "outputs": []
    },
    {
      "cell_type": "markdown",
      "metadata": {
        "id": "0eUzYMjppd-O"
      },
      "source": [
        "Quinto modelo Gaussian Naive Bayes"
      ]
    },
    {
      "cell_type": "code",
      "metadata": {
        "id": "kh7i42wApfpz"
      },
      "source": [
        "gaussian = GaussianNB()\n",
        "gaussian.fit(X_train_prep, y_train)\n",
        "Y_pred = gaussian.predict(X_test_prep)\n",
        "acc_gaussian = round(gaussian.score(X_train_prep, y_train) * 100, 2)"
      ],
      "execution_count": 180,
      "outputs": []
    },
    {
      "cell_type": "markdown",
      "metadata": {
        "id": "I4A1fQ0ZpwGo"
      },
      "source": [
        "Sexto modelo Perceptrón"
      ]
    },
    {
      "cell_type": "code",
      "metadata": {
        "id": "p5OEFSojpzlk"
      },
      "source": [
        "perceptron = Perceptron(max_iter=10)\n",
        "perceptron.fit(X_train_prep, y_train)\n",
        "\n",
        "Y_pred = perceptron.predict(X_test_prep)\n",
        "\n",
        "acc_perceptron = round(perceptron.score(X_train_prep, y_train) * 100, 2)"
      ],
      "execution_count": 181,
      "outputs": []
    },
    {
      "cell_type": "markdown",
      "metadata": {
        "id": "I-LNv4xqp39w"
      },
      "source": [
        "Séptimo modelo aprendizaje con soporte en vectores"
      ]
    },
    {
      "cell_type": "code",
      "metadata": {
        "id": "Z2Y4Oeo2p7P0"
      },
      "source": [
        "linear_svc = LinearSVC(max_iter=1000)\n",
        "linear_svc.fit(X_train_prep, y_train)\n",
        "\n",
        "Y_pred = linear_svc.predict(X_test_prep)\n",
        "\n",
        "acc_linear_svc = round(linear_svc.score(X_train_prep, y_train) * 100, 2)"
      ],
      "execution_count": 182,
      "outputs": []
    },
    {
      "cell_type": "markdown",
      "metadata": {
        "id": "6HzQi5bMqFUy"
      },
      "source": [
        "Octavo modelo árboles de decisiones"
      ]
    },
    {
      "cell_type": "code",
      "metadata": {
        "id": "nYgK5gDmqMkT"
      },
      "source": [
        "decision_tree = DecisionTreeClassifier()\n",
        "decision_tree.fit(X_train_prep, y_train)\n",
        "Y_pred = decision_tree.predict(X_test_prep)\n",
        "acc_decision_tree = round(decision_tree.score(X_train_prep, y_train) * 100, 2)"
      ],
      "execution_count": 183,
      "outputs": []
    },
    {
      "cell_type": "markdown",
      "metadata": {
        "id": "gH6YhFbrqbcI"
      },
      "source": [
        "Comparativas de exactitud entre modelos"
      ]
    },
    {
      "cell_type": "code",
      "metadata": {
        "colab": {
          "base_uri": "https://localhost:8080/",
          "height": 332
        },
        "id": "E7WFHn1pqftT",
        "outputId": "e683fbc2-acfd-41ca-8af8-eaede0814e5e"
      },
      "source": [
        "results = pd.DataFrame({\n",
        "    'Model': ['Support Vector Machines', 'KNN', 'Regresión logística', \n",
        "              'Árboles aleatorios', 'Naive Bayes', 'Perceptrón', \n",
        "              'Descenso de Gradiente Estocástico', \n",
        "              'Árboles de decisión'],\n",
        "    'Score': [acc_linear_svc, acc_knn, acc_log, \n",
        "              acc_random_forest, acc_gaussian, acc_perceptron, \n",
        "              acc_sgd, acc_decision_tree]})\n",
        "result_df = results.sort_values(by='Score', ascending=False)\n",
        "result_df = result_df.set_index('Score')\n",
        "result_df.head(9)"
      ],
      "execution_count": 186,
      "outputs": [
        {
          "output_type": "execute_result",
          "data": {
            "text/html": [
              "<div>\n",
              "<style scoped>\n",
              "    .dataframe tbody tr th:only-of-type {\n",
              "        vertical-align: middle;\n",
              "    }\n",
              "\n",
              "    .dataframe tbody tr th {\n",
              "        vertical-align: top;\n",
              "    }\n",
              "\n",
              "    .dataframe thead th {\n",
              "        text-align: right;\n",
              "    }\n",
              "</style>\n",
              "<table border=\"1\" class=\"dataframe\">\n",
              "  <thead>\n",
              "    <tr style=\"text-align: right;\">\n",
              "      <th></th>\n",
              "      <th>Model</th>\n",
              "    </tr>\n",
              "    <tr>\n",
              "      <th>Score</th>\n",
              "      <th></th>\n",
              "    </tr>\n",
              "  </thead>\n",
              "  <tbody>\n",
              "    <tr>\n",
              "      <th>100.00</th>\n",
              "      <td>Árboles de decisión</td>\n",
              "    </tr>\n",
              "    <tr>\n",
              "      <th>98.58</th>\n",
              "      <td>Árboles aleatorios</td>\n",
              "    </tr>\n",
              "    <tr>\n",
              "      <th>87.74</th>\n",
              "      <td>KNN</td>\n",
              "    </tr>\n",
              "    <tr>\n",
              "      <th>83.49</th>\n",
              "      <td>Support Vector Machines</td>\n",
              "    </tr>\n",
              "    <tr>\n",
              "      <th>82.08</th>\n",
              "      <td>Regresión logística</td>\n",
              "    </tr>\n",
              "    <tr>\n",
              "      <th>80.19</th>\n",
              "      <td>Naive Bayes</td>\n",
              "    </tr>\n",
              "    <tr>\n",
              "      <th>76.89</th>\n",
              "      <td>Perceptrón</td>\n",
              "    </tr>\n",
              "    <tr>\n",
              "      <th>58.96</th>\n",
              "      <td>Descenso de Gradiente Estocástico</td>\n",
              "    </tr>\n",
              "  </tbody>\n",
              "</table>\n",
              "</div>"
            ],
            "text/plain": [
              "                                    Model\n",
              "Score                                    \n",
              "100.00                Árboles de decisión\n",
              "98.58                  Árboles aleatorios\n",
              "87.74                                 KNN\n",
              "83.49             Support Vector Machines\n",
              "82.08                 Regresión logística\n",
              "80.19                         Naive Bayes\n",
              "76.89                          Perceptrón\n",
              "58.96   Descenso de Gradiente Estocástico"
            ]
          },
          "metadata": {
            "tags": []
          },
          "execution_count": 186
        }
      ]
    }
  ]
}